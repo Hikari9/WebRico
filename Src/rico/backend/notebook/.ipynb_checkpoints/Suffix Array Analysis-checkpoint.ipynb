{
 "cells": [
  {
   "cell_type": "markdown",
   "metadata": {},
   "source": [
    "# Suffix Array Algorithms Analysis\n",
    "\n",
    "\n",
    "This notebook summarizes analysis for certain algorithms that build the [suffix array](\n",
    "https://en.wikipedia.org/wiki/Suffix_array) data structure, classified according to their complexities.\n",
    "\n",
    "1. **Radix Sort** - *O(n log^2 n)*\n",
    "2. **Counting Sort** - *O(n log n)*\n",
    "3. **DC3 Algorithm** - *O(kn)*\n",
    "\n",
    "Conclusion summary:\n",
    "- Radix Sort beats DC3 and Counting Sort for small random text (length < 1000) with lots of letters.\n",
    "- Counting Sort, though having a better theoretical complexity, is slower than Radix Sort in most cases.\n",
    "- Counting Sort is only better than Radix Sort in cases when the number of distinct letters is small.\n",
    "- DC3 beats Counting Sort in all test cases.\n",
    "- DC3 beats Radix Sort for all large text (length > 1000)\n"
   ]
  },
  {
   "cell_type": "code",
   "execution_count": 15,
   "metadata": {
    "collapsed": false
   },
   "outputs": [
    {
     "name": "stdout",
     "output_type": "stream",
     "text": [
      "B:\\Rico\\Dev\\GitHub\\WebRico\\src\n"
     ]
    }
   ],
   "source": [
    "cd ../../../"
   ]
  },
  {
   "cell_type": "code",
   "execution_count": 641,
   "metadata": {
    "collapsed": false
   },
   "outputs": [],
   "source": [
    "from rico.backend.strings.suffix import SuffixArray"
   ]
  },
  {
   "cell_type": "code",
   "execution_count": 677,
   "metadata": {
    "collapsed": true
   },
   "outputs": [],
   "source": [
    "# Testing\n",
    "trial_text = []\n",
    "\n",
    "import cProfile, os, pstats\n",
    "from random import randint\n",
    "\n",
    "def statistics(algorithm):\n",
    "    return os.path.join('rico', 'backend', 'notebook', 'suffix array ' + algorithm + ' stats')\n",
    "\n",
    "def generate_text(trials=10, text_length=1000, letters=26):\n",
    "    print 'Trials:', trials\n",
    "    print 'Text length:', text_length\n",
    "    print 'Letters:', letters\n",
    "    print ''\n",
    "    global trial_text\n",
    "    if isinstance(text_length, int):\n",
    "        text_length = (text_length, text_length)\n",
    "    trial_text = [''.join([chr(randint(0, letters - 1) + (ord('A') if letters <= 26 else 1)) for i in xrange(randint(text_length[0], text_length[1]))]) for i in xrange(trials)]\n",
    "\n",
    "results = {}\n",
    "def perform_algorithm(algorithm):\n",
    "    global results\n",
    "    results[algorithm] = []\n",
    "    for text in trial_text:\n",
    "        results[algorithm].append(SuffixArray(text, algo=algorithm))\n",
    "\n",
    "def profiler(algorithm):\n",
    "    cProfile.run('perform_algorithm(\"%s\")' % algorithm, statistics(algorithm))\n",
    "    print 'Algorithm:', algorithm\n",
    "    pstats.Stats(statistics(algorithm)).strip_dirs().sort_stats(-1).print_stats()\n",
    "\n",
    "def test(trials=10, text_length=10000, letters=5):\n",
    "    generate_text(trials=trials, text_length=text_length, letters=letters)\n",
    "    for algorithm in SuffixArray.algorithms:\n",
    "        %time perform_algorithm(algorithm)\n",
    "        print '(%s)\\n' % algorithm\n",
    "    L = list(results)\n",
    "    for i in xrange(len(L)):\n",
    "        for j in xrange(i + 1, len(L)):\n",
    "            algo1, algo2 = L[i], L[j]\n",
    "            print '(%s == %s)?' % (algo1, algo2), results[algo1] == results[algo2]"
   ]
  },
  {
   "cell_type": "code",
   "execution_count": 682,
   "metadata": {
    "collapsed": false
   },
   "outputs": [
    {
     "name": "stdout",
     "output_type": "stream",
     "text": [
      "Trials: 1000\n",
      "Text length: (1, 100)\n",
      "Letters: 26\n",
      "\n",
      "Wall time: 233 ms\n",
      "(radix sort)\n",
      "\n",
      "Wall time: 459 ms\n",
      "(counting sort)\n",
      "\n",
      "Wall time: 340 ms\n",
      "(dc3)\n",
      "\n",
      "(radix sort == counting sort)? True\n",
      "(radix sort == dc3)? True\n",
      "(counting sort == dc3)? True\n"
     ]
    }
   ],
   "source": [
    "test(trials=1000, text_length=(1, 100), letters=26)"
   ]
  },
  {
   "cell_type": "code",
   "execution_count": 683,
   "metadata": {
    "collapsed": false
   },
   "outputs": [
    {
     "name": "stdout",
     "output_type": "stream",
     "text": [
      "Trials: 5\n",
      "Text length: 100000\n",
      "Letters: 1\n",
      "\n",
      "Wall time: 12.3 s\n",
      "(radix sort)\n",
      "\n",
      "Wall time: 10.3 s\n",
      "(counting sort)\n",
      "\n",
      "Wall time: 4.32 s\n",
      "(dc3)\n",
      "\n",
      "(radix sort == counting sort)? True\n",
      "(radix sort == dc3)? True\n",
      "(counting sort == dc3)? True\n"
     ]
    }
   ],
   "source": [
    "test(trials=5, text_length=100000, letters=1)"
   ]
  },
  {
   "cell_type": "code",
   "execution_count": 688,
   "metadata": {
    "collapsed": false
   },
   "outputs": [
    {
     "name": "stdout",
     "output_type": "stream",
     "text": [
      "Trials: 5\n",
      "Text length: 100000\n",
      "Letters: 2\n",
      "\n",
      "Wall time: 10.6 s\n",
      "(radix sort)\n",
      "\n",
      "Wall time: 18.1 s\n",
      "(counting sort)\n",
      "\n",
      "Wall time: 4.99 s\n",
      "(dc3)\n",
      "\n",
      "(radix sort == counting sort)? True\n",
      "(radix sort == dc3)? True\n",
      "(counting sort == dc3)? True\n"
     ]
    }
   ],
   "source": [
    "test(trials=5, text_length=100000, letters=2)"
   ]
  },
  {
   "cell_type": "code",
   "execution_count": 684,
   "metadata": {
    "collapsed": false
   },
   "outputs": [
    {
     "name": "stdout",
     "output_type": "stream",
     "text": [
      "Trials: 100\n",
      "Text length: (1000, 5000)\n",
      "Letters: 5\n",
      "\n",
      "Wall time: 3.57 s\n",
      "(radix sort)\n",
      "\n",
      "Wall time: 4.47 s\n",
      "(counting sort)\n",
      "\n",
      "Wall time: 1.68 s\n",
      "(dc3)\n",
      "\n",
      "(radix sort == counting sort)? True\n",
      "(radix sort == dc3)? True\n",
      "(counting sort == dc3)? True\n"
     ]
    }
   ],
   "source": [
    "test(trials=100, text_length=(1000, 5000), letters=5)"
   ]
  },
  {
   "cell_type": "code",
   "execution_count": 685,
   "metadata": {
    "collapsed": false
   },
   "outputs": [
    {
     "name": "stdout",
     "output_type": "stream",
     "text": [
      "Trials: 100\n",
      "Text length: (1000, 5000)\n",
      "Letters: 26\n",
      "\n",
      "Wall time: 2.77 s\n",
      "(radix sort)\n",
      "\n",
      "Wall time: 4.81 s\n",
      "(counting sort)\n",
      "\n",
      "Wall time: 1.69 s\n",
      "(dc3)\n",
      "\n",
      "(radix sort == counting sort)? True\n",
      "(radix sort == dc3)? True\n",
      "(counting sort == dc3)? True\n"
     ]
    }
   ],
   "source": [
    "test(trials=100, text_length=(1000, 5000), letters=26)"
   ]
  },
  {
   "cell_type": "code",
   "execution_count": 686,
   "metadata": {
    "collapsed": false
   },
   "outputs": [
    {
     "name": "stdout",
     "output_type": "stream",
     "text": [
      "Trials: 10\n",
      "Text length: 50000\n",
      "Letters: 50\n",
      "\n",
      "Wall time: 5.72 s\n",
      "(radix sort)\n",
      "\n",
      "Wall time: 14 s\n",
      "(counting sort)\n",
      "\n",
      "Wall time: 3.12 s\n",
      "(dc3)\n",
      "\n",
      "(radix sort == counting sort)? True\n",
      "(radix sort == dc3)? True\n",
      "(counting sort == dc3)? True\n"
     ]
    }
   ],
   "source": [
    "test(trials=10, text_length=50000, letters=50)"
   ]
  },
  {
   "cell_type": "code",
   "execution_count": 687,
   "metadata": {
    "collapsed": false
   },
   "outputs": [
    {
     "name": "stdout",
     "output_type": "stream",
     "text": [
      "Trials: 1\n",
      "Text length: 1000000\n",
      "Letters: 10\n",
      "\n",
      "Wall time: 17.8 s\n",
      "(radix sort)\n",
      "\n",
      "Wall time: 44.6 s\n",
      "(counting sort)\n",
      "\n",
      "Wall time: 10.2 s\n",
      "(dc3)\n",
      "\n",
      "(radix sort == counting sort)? True\n",
      "(radix sort == dc3)? True\n",
      "(counting sort == dc3)? True\n"
     ]
    }
   ],
   "source": [
    "test(trials=1, text_length=1000000, letters=10)"
   ]
  }
 ],
 "metadata": {
  "kernelspec": {
   "display_name": "Python 2",
   "language": "python",
   "name": "python2"
  },
  "language_info": {
   "codemirror_mode": {
    "name": "ipython",
    "version": 2
   },
   "file_extension": ".py",
   "mimetype": "text/x-python",
   "name": "python",
   "nbconvert_exporter": "python",
   "pygments_lexer": "ipython2",
   "version": "2.7.10"
  }
 },
 "nbformat": 4,
 "nbformat_minor": 0
}
